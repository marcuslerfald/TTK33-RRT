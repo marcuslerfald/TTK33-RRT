{
 "cells": [
  {
   "cell_type": "code",
   "execution_count": 2,
   "metadata": {},
   "outputs": [],
   "source": [
    "import numpy as np\n",
    "import matplotlib.pyplot as plt\n",
    "import time\n",
    "from IPython.display import display, clear_output\n",
    "class Gridworld:\n",
    "    def __init__(self, size_x, size_y):\n",
    "        self.size_x = size_x\n",
    "        self.size_y = size_y\n",
    "        self.grid = np.zeros((size_x, size_y))\n",
    "        self.obstacle_percentage = 0.005\n",
    "        self.obstacles = []\n",
    "    def place_obstacles(self):\n",
    "        #Draw two line obstacles\n",
    "        self.obstacles = [[[100,500],[400,500]], [[600,620],[600,820]]]\n",
    "        self.grid[500:501,100:400] = 1 # Covers 300 cells \n",
    "        self.grid[620:820, 600:601] = 1 # Covers 200 cells\n",
    "    def place_obstacles_random(self):\n",
    "        rand_grid = np.random.rand(self.size_x,self.size_y)\n",
    "        self.grid[rand_grid<self.obstacle_percentage] = 1\n",
    "\n",
    "class Node:\n",
    "    def __init__(self, x, y, parent=None):\n",
    "        self.x = x\n",
    "        self.y = y\n",
    "        self.children = []\n",
    "        self.parent = parent\n",
    "\n",
    "def counter_clockwise(x1,x2,x3):\n",
    "    return (x3[1]-x1[1]) * (x2[0]-x1[0]) > (x2[1]-x1[1]) * (x3[0]-x1[0])\n",
    "\n",
    "def line_segment_intersect(x1_start,x1_end,x2_start,x2_end):\n",
    "    return counter_clockwise(x1_start,x2_start,x2_end) != counter_clockwise(x1_end,x2_start,x2_end) and counter_clockwise(x1_start,x1_end,x2_start) != counter_clockwise(x1_start,x1_end,x2_end)\n",
    "\n",
    "def obstacle_free(x_nearest, x_new, gridworld):\n",
    "    for i in range(len(gridworld.obstacles)):\n",
    "        if line_segment_intersect(gridworld.obstacles[i][0], gridworld.obstacles[i][1], x_nearest, x_new):\n",
    "            return False\n",
    "    return True"
   ]
  },
  {
   "cell_type": "code",
   "execution_count": null,
   "metadata": {},
   "outputs": [
    {
     "ename": "",
     "evalue": "",
     "output_type": "error",
     "traceback": [
      "\u001b[1;31mThe Kernel crashed while executing code in the the current cell or a previous cell. Please review the code in the cell(s) to identify a possible cause of the failure. Click <a href='https://aka.ms/vscodeJupyterKernelCrash'>here</a> for more info. View Jupyter <a href='command:jupyter.viewOutput'>log</a> for further details."
     ]
    },
    {
     "ename": "",
     "evalue": "",
     "output_type": "error",
     "traceback": [
      "\u001b[1;31mCanceled future for execute_request message before replies were done"
     ]
    }
   ],
   "source": [
    "x0 = [2, 2]\n",
    "n0 = Node(x0[0], x0[1])\n",
    "\n",
    "n1 = Node(0,0,n0)\n",
    "n2 = Node(5,5,n1)\n",
    "\n",
    "gridworld = Gridworld(1000,1000)\n",
    "gridworld.place_obstacles()\n",
    "\n",
    "plt.rcParams['figure.figsize'] = [10, 10]\n",
    "fig, ax = plt.subplots()\n",
    "plt.imshow(gridworld.grid, cmap='Greys')\n",
    "ax.set_xticklabels([])\n",
    "ax.set_yticklabels([])\n",
    "\n",
    "#Simple line plot test\n",
    "prev_node = n0\n",
    "for i in range(10):\n",
    "    display(fig)\n",
    "    rand_node = Node(np.random.rand()*gridworld.size_x, np.random.rand()*gridworld.size_y, prev_node)\n",
    "    plt.plot((rand_node.x,rand_node.y), (prev_node.x,prev_node.y), 'r-', linewidth=0.5)\n",
    "    prev_node = rand_node\n",
    "    clear_output(wait = True)\n",
    "\n",
    "\n"
   ]
  }
 ],
 "metadata": {
  "kernelspec": {
   "display_name": "Python 3.8.10 64-bit",
   "language": "python",
   "name": "python3"
  },
  "language_info": {
   "codemirror_mode": {
    "name": "ipython",
    "version": 3
   },
   "file_extension": ".py",
   "mimetype": "text/x-python",
   "name": "python",
   "nbconvert_exporter": "python",
   "pygments_lexer": "ipython3",
   "version": "3.8.10"
  },
  "orig_nbformat": 4,
  "vscode": {
   "interpreter": {
    "hash": "e7370f93d1d0cde622a1f8e1c04877d8463912d04d973331ad4851f04de6915a"
   }
  }
 },
 "nbformat": 4,
 "nbformat_minor": 2
}
